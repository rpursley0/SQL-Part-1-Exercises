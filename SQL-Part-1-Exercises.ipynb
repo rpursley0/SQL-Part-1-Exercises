{
 "cells": [
  {
   "cell_type": "markdown",
   "metadata": {
    "azdata_cell_guid": "b9034d8a-b631-48bf-a895-1012a6ffa784"
   },
   "source": [
    "# SQL Part 1 Exercises\n",
    "\n",
    "## The Goodbooks-10k dataset\n",
    "\n",
    "- The dataset can be found here: [goodbooks-10k](https://www.kaggle.com/zygmunt/goodbooks-10k)\n",
    "- You can access the **BooksDB** in the Launchcode server.\n",
    "\n",
    "### Getting Started\n",
    "\n",
    "- This dataset has 5 tables. We are going to use the exercises to explore each table and practice SQL syntax.\n",
    "- We will be covering the following commands with our tables:\n",
    "    - **SELECT**, **FROM**, **\\***, **TOP**, **LIKE**, **%** (the wildcard), **IN**, **BETWEEN**, **ORDER BY**, **AS**, **ASC,** **DESC**, **DISTINCT**, **LIMIT**, **WHERE**, **GROUP BY**, Aggregation, and Arithmetic Operators"
   ]
  },
  {
   "cell_type": "markdown",
   "metadata": {
    "azdata_cell_guid": "6e55eb1c-4a14-4076-90d2-95ed17a6309f"
   },
   "source": [
    "# A. The **Books** Table\n",
    "\n",
    "### Column Context\n",
    "\n",
    "- **id** = instance of a book (ie: the top 10k books in some order)\n",
    "- **book\\_id** = the instance of the book in the Goodreads database\n",
    "    - [https://www.goodreads.com/book/show/3.Harry\\_Potter\\_and\\_the\\_Sorcerer\\_s\\_Stone](https://www.goodreads.com/book/show/3.Harry_Potter_and_the_Sorcerer_s_Stone)\n",
    "- **best\\_book\\_id** = is the most popular edition for a given work. Generally, it's the same as **goodreads\\_book\\_id** but differs occasionally\n",
    "    - [https://www.goodreads.com/book/show/3.Harry\\_Potter\\_and\\_the\\_Sorcerer\\_s\\_Stone](https://www.goodreads.com/book/show/3.Harry_Potter_and_the_Sorcerer_s_Stone)\n",
    "- **work\\_id** =  [Work IDs](https://help.goodreads.com/s/article/What-s-a-Work-ID-and-where-can-I-find-it) are unique identification numbers that represent books in the Goodreads catalog.  Work view holds collections of quotes collected by users for this edition/version.\n",
    "    - [https://www.goodreads.com/work/quotes/4640799-harry-potter-and-the-philosopher-s-stone](https://www.goodreads.com/work/quotes/4640799-harry-potter-and-the-philosopher-s-stone) \n",
    "- **books\\_count** = is the number of editions for a given work\n",
    "- **isbn** = International Standard Book Number, or a [book's unique identifier](https://en.wikipedia.org/wiki/International_Standard_Book_Number#How_ISBNs_are_issued)\n",
    "- **isbn13** = 13 digit long isbn issued after 2007.  The [GS1](https://en.wikipedia.org/wiki/GS1)  prefix currently is 978 or 979\n",
    "- **authors** = the first entry is who wrote the book, followed by illustrators, contributors, translators, etc\n",
    "- **original\\_publication\\_year** = when the book was first published\n",
    "- **originial\\_title** = the original title the book was given. This could be the title in the book's original language, the title of the book in a series, etc.\n",
    "- **title** = The title after translating and its location in a series, including the series name and the book's position in the series.\n",
    "- **language\\_code** = what language the book was in when this data was scraped\n",
    "- **average\\_rating** = On Goodreads, this average is [calculated](https://help.goodreads.com/s/article/As-an-author-how-is-the-average-rating-of-my-books-calculated#:~:text=On%20Goodreads%2C%20this%20average%20is,the%20total%20number%20of%20ratings.) as the sum of all of the author's book ratings divided by the total number of ratings.\n",
    "- **ratings\\_count** = total number of ratings\n",
    "- **work\\_ratings** = likes for each quote? or likes for this edition??\n",
    "- **work\\_text\\_reviews\\_count** = number of text reviews for each book.\n",
    "- **ratings\\_1** = number of 1 star reviews\n",
    "- **ratings\\_2** = number of 2 star reviews\n",
    "- **ratings\\_3** = number of 3 star reviews\n",
    "- **ratings\\_4** = number of 4 star reviews\n",
    "- **ratings\\_5** = number of 5 star reviews\n",
    "- **image\\_url** = cover image\n",
    "- **small\\_image\\_url** = thumbnail image of cover"
   ]
  },
  {
   "cell_type": "markdown",
   "metadata": {
    "azdata_cell_guid": "766bdbf5-9b53-45b8-8306-c5a1e5205b1d"
   },
   "source": [
    "QUESTION 1: Select the [top 1000 rows](https://www.w3schools.com/sql/sql\\_top.asp) from the books table.  Make sure you are able to see all of the columns."
   ]
  },
  {
   "cell_type": "code",
   "execution_count": 3,
   "metadata": {},
   "outputs": [
    {
     "data": {
      "text/html": [
       "<div>\n",
       "<style scoped>\n",
       "    .dataframe tbody tr th:only-of-type {\n",
       "        vertical-align: middle;\n",
       "    }\n",
       "\n",
       "    .dataframe tbody tr th {\n",
       "        vertical-align: top;\n",
       "    }\n",
       "\n",
       "    .dataframe thead th {\n",
       "        text-align: right;\n",
       "    }\n",
       "</style>\n",
       "<table border=\"1\" class=\"dataframe\">\n",
       "  <thead>\n",
       "    <tr style=\"text-align: right;\">\n",
       "      <th></th>\n",
       "      <th>id</th>\n",
       "      <th>book_id</th>\n",
       "      <th>best_book_id</th>\n",
       "      <th>work_id</th>\n",
       "      <th>books_count</th>\n",
       "      <th>isbn</th>\n",
       "      <th>isbn13</th>\n",
       "      <th>authors</th>\n",
       "      <th>original_publication_year</th>\n",
       "      <th>original_title</th>\n",
       "      <th>...</th>\n",
       "      <th>ratings_count</th>\n",
       "      <th>work_ratings_count</th>\n",
       "      <th>work_text_reviews_count</th>\n",
       "      <th>ratings_1</th>\n",
       "      <th>ratings_2</th>\n",
       "      <th>ratings_3</th>\n",
       "      <th>ratings_4</th>\n",
       "      <th>ratings_5</th>\n",
       "      <th>image_url</th>\n",
       "      <th>small_image_url</th>\n",
       "    </tr>\n",
       "  </thead>\n",
       "  <tbody>\n",
       "    <tr>\n",
       "      <th>0</th>\n",
       "      <td>1</td>\n",
       "      <td>2767052</td>\n",
       "      <td>2767052</td>\n",
       "      <td>2792775</td>\n",
       "      <td>272</td>\n",
       "      <td>439023483</td>\n",
       "      <td>9.780439e+12</td>\n",
       "      <td>Suzanne Collins</td>\n",
       "      <td>2008.0</td>\n",
       "      <td>The Hunger Games</td>\n",
       "      <td>...</td>\n",
       "      <td>4780653</td>\n",
       "      <td>4942365</td>\n",
       "      <td>155254</td>\n",
       "      <td>66715</td>\n",
       "      <td>127936</td>\n",
       "      <td>560092</td>\n",
       "      <td>1481305</td>\n",
       "      <td>2706317</td>\n",
       "      <td>https://images.gr-assets.com/books/1447303603m...</td>\n",
       "      <td>https://images.gr-assets.com/books/1447303603s...</td>\n",
       "    </tr>\n",
       "    <tr>\n",
       "      <th>1</th>\n",
       "      <td>2</td>\n",
       "      <td>3</td>\n",
       "      <td>3</td>\n",
       "      <td>4640799</td>\n",
       "      <td>491</td>\n",
       "      <td>439554934</td>\n",
       "      <td>9.780440e+12</td>\n",
       "      <td>J.K. Rowling, Mary GrandPré</td>\n",
       "      <td>1997.0</td>\n",
       "      <td>Harry Potter and the Philosopher's Stone</td>\n",
       "      <td>...</td>\n",
       "      <td>4602479</td>\n",
       "      <td>4800065</td>\n",
       "      <td>75867</td>\n",
       "      <td>75504</td>\n",
       "      <td>101676</td>\n",
       "      <td>455024</td>\n",
       "      <td>1156318</td>\n",
       "      <td>3011543</td>\n",
       "      <td>https://images.gr-assets.com/books/1474154022m...</td>\n",
       "      <td>https://images.gr-assets.com/books/1474154022s...</td>\n",
       "    </tr>\n",
       "    <tr>\n",
       "      <th>2</th>\n",
       "      <td>3</td>\n",
       "      <td>41865</td>\n",
       "      <td>41865</td>\n",
       "      <td>3212258</td>\n",
       "      <td>226</td>\n",
       "      <td>316015849</td>\n",
       "      <td>9.780316e+12</td>\n",
       "      <td>Stephenie Meyer</td>\n",
       "      <td>2005.0</td>\n",
       "      <td>Twilight</td>\n",
       "      <td>...</td>\n",
       "      <td>3866839</td>\n",
       "      <td>3916824</td>\n",
       "      <td>95009</td>\n",
       "      <td>456191</td>\n",
       "      <td>436802</td>\n",
       "      <td>793319</td>\n",
       "      <td>875073</td>\n",
       "      <td>1355439</td>\n",
       "      <td>https://images.gr-assets.com/books/1361039443m...</td>\n",
       "      <td>https://images.gr-assets.com/books/1361039443s...</td>\n",
       "    </tr>\n",
       "    <tr>\n",
       "      <th>3</th>\n",
       "      <td>4</td>\n",
       "      <td>2657</td>\n",
       "      <td>2657</td>\n",
       "      <td>3275794</td>\n",
       "      <td>487</td>\n",
       "      <td>61120081</td>\n",
       "      <td>9.780061e+12</td>\n",
       "      <td>Harper Lee</td>\n",
       "      <td>1960.0</td>\n",
       "      <td>To Kill a Mockingbird</td>\n",
       "      <td>...</td>\n",
       "      <td>3198671</td>\n",
       "      <td>3340896</td>\n",
       "      <td>72586</td>\n",
       "      <td>60427</td>\n",
       "      <td>117415</td>\n",
       "      <td>446835</td>\n",
       "      <td>1001952</td>\n",
       "      <td>1714267</td>\n",
       "      <td>https://images.gr-assets.com/books/1361975680m...</td>\n",
       "      <td>https://images.gr-assets.com/books/1361975680s...</td>\n",
       "    </tr>\n",
       "    <tr>\n",
       "      <th>4</th>\n",
       "      <td>5</td>\n",
       "      <td>4671</td>\n",
       "      <td>4671</td>\n",
       "      <td>245494</td>\n",
       "      <td>1356</td>\n",
       "      <td>743273567</td>\n",
       "      <td>9.780743e+12</td>\n",
       "      <td>F. Scott Fitzgerald</td>\n",
       "      <td>1925.0</td>\n",
       "      <td>The Great Gatsby</td>\n",
       "      <td>...</td>\n",
       "      <td>2683664</td>\n",
       "      <td>2773745</td>\n",
       "      <td>51992</td>\n",
       "      <td>86236</td>\n",
       "      <td>197621</td>\n",
       "      <td>606158</td>\n",
       "      <td>936012</td>\n",
       "      <td>947718</td>\n",
       "      <td>https://images.gr-assets.com/books/1490528560m...</td>\n",
       "      <td>https://images.gr-assets.com/books/1490528560s...</td>\n",
       "    </tr>\n",
       "    <tr>\n",
       "      <th>...</th>\n",
       "      <td>...</td>\n",
       "      <td>...</td>\n",
       "      <td>...</td>\n",
       "      <td>...</td>\n",
       "      <td>...</td>\n",
       "      <td>...</td>\n",
       "      <td>...</td>\n",
       "      <td>...</td>\n",
       "      <td>...</td>\n",
       "      <td>...</td>\n",
       "      <td>...</td>\n",
       "      <td>...</td>\n",
       "      <td>...</td>\n",
       "      <td>...</td>\n",
       "      <td>...</td>\n",
       "      <td>...</td>\n",
       "      <td>...</td>\n",
       "      <td>...</td>\n",
       "      <td>...</td>\n",
       "      <td>...</td>\n",
       "      <td>...</td>\n",
       "    </tr>\n",
       "    <tr>\n",
       "      <th>9995</th>\n",
       "      <td>9996</td>\n",
       "      <td>7130616</td>\n",
       "      <td>7130616</td>\n",
       "      <td>7392860</td>\n",
       "      <td>19</td>\n",
       "      <td>441019455</td>\n",
       "      <td>9.780441e+12</td>\n",
       "      <td>Ilona Andrews</td>\n",
       "      <td>2010.0</td>\n",
       "      <td>Bayou Moon</td>\n",
       "      <td>...</td>\n",
       "      <td>17204</td>\n",
       "      <td>18856</td>\n",
       "      <td>1180</td>\n",
       "      <td>105</td>\n",
       "      <td>575</td>\n",
       "      <td>3538</td>\n",
       "      <td>7860</td>\n",
       "      <td>6778</td>\n",
       "      <td>https://images.gr-assets.com/books/1307445460m...</td>\n",
       "      <td>https://images.gr-assets.com/books/1307445460s...</td>\n",
       "    </tr>\n",
       "    <tr>\n",
       "      <th>9996</th>\n",
       "      <td>9997</td>\n",
       "      <td>208324</td>\n",
       "      <td>208324</td>\n",
       "      <td>1084709</td>\n",
       "      <td>19</td>\n",
       "      <td>067973371X</td>\n",
       "      <td>9.780680e+12</td>\n",
       "      <td>Robert A. Caro</td>\n",
       "      <td>1990.0</td>\n",
       "      <td>Means of Ascent</td>\n",
       "      <td>...</td>\n",
       "      <td>12582</td>\n",
       "      <td>12952</td>\n",
       "      <td>395</td>\n",
       "      <td>303</td>\n",
       "      <td>551</td>\n",
       "      <td>1737</td>\n",
       "      <td>3389</td>\n",
       "      <td>6972</td>\n",
       "      <td>https://s.gr-assets.com/assets/nophoto/book/11...</td>\n",
       "      <td>https://s.gr-assets.com/assets/nophoto/book/50...</td>\n",
       "    </tr>\n",
       "    <tr>\n",
       "      <th>9997</th>\n",
       "      <td>9998</td>\n",
       "      <td>77431</td>\n",
       "      <td>77431</td>\n",
       "      <td>2393986</td>\n",
       "      <td>60</td>\n",
       "      <td>039330762X</td>\n",
       "      <td>9.780393e+12</td>\n",
       "      <td>Patrick O'Brian</td>\n",
       "      <td>1977.0</td>\n",
       "      <td>The Mauritius Command</td>\n",
       "      <td>...</td>\n",
       "      <td>9421</td>\n",
       "      <td>10733</td>\n",
       "      <td>374</td>\n",
       "      <td>11</td>\n",
       "      <td>111</td>\n",
       "      <td>1191</td>\n",
       "      <td>4240</td>\n",
       "      <td>5180</td>\n",
       "      <td>https://images.gr-assets.com/books/1455373531m...</td>\n",
       "      <td>https://images.gr-assets.com/books/1455373531s...</td>\n",
       "    </tr>\n",
       "    <tr>\n",
       "      <th>9998</th>\n",
       "      <td>9999</td>\n",
       "      <td>8565083</td>\n",
       "      <td>8565083</td>\n",
       "      <td>13433613</td>\n",
       "      <td>7</td>\n",
       "      <td>61711527</td>\n",
       "      <td>9.780062e+12</td>\n",
       "      <td>Peggy Orenstein</td>\n",
       "      <td>2011.0</td>\n",
       "      <td>Cinderella Ate My Daughter: Dispatches from th...</td>\n",
       "      <td>...</td>\n",
       "      <td>11279</td>\n",
       "      <td>11994</td>\n",
       "      <td>1988</td>\n",
       "      <td>275</td>\n",
       "      <td>1002</td>\n",
       "      <td>3765</td>\n",
       "      <td>4577</td>\n",
       "      <td>2375</td>\n",
       "      <td>https://images.gr-assets.com/books/1279214118m...</td>\n",
       "      <td>https://images.gr-assets.com/books/1279214118s...</td>\n",
       "    </tr>\n",
       "    <tr>\n",
       "      <th>9999</th>\n",
       "      <td>10000</td>\n",
       "      <td>8914</td>\n",
       "      <td>8914</td>\n",
       "      <td>11817</td>\n",
       "      <td>31</td>\n",
       "      <td>375700455</td>\n",
       "      <td>9.780376e+12</td>\n",
       "      <td>John Keegan</td>\n",
       "      <td>1998.0</td>\n",
       "      <td>The First World War</td>\n",
       "      <td>...</td>\n",
       "      <td>9162</td>\n",
       "      <td>9700</td>\n",
       "      <td>364</td>\n",
       "      <td>117</td>\n",
       "      <td>345</td>\n",
       "      <td>2031</td>\n",
       "      <td>4138</td>\n",
       "      <td>3069</td>\n",
       "      <td>https://images.gr-assets.com/books/1403194704m...</td>\n",
       "      <td>https://images.gr-assets.com/books/1403194704s...</td>\n",
       "    </tr>\n",
       "  </tbody>\n",
       "</table>\n",
       "<p>10000 rows × 23 columns</p>\n",
       "</div>"
      ],
      "text/plain": [
       "         id  book_id  best_book_id   work_id  books_count        isbn  \\\n",
       "0         1  2767052       2767052   2792775          272   439023483   \n",
       "1         2        3             3   4640799          491   439554934   \n",
       "2         3    41865         41865   3212258          226   316015849   \n",
       "3         4     2657          2657   3275794          487    61120081   \n",
       "4         5     4671          4671    245494         1356   743273567   \n",
       "...     ...      ...           ...       ...          ...         ...   \n",
       "9995   9996  7130616       7130616   7392860           19   441019455   \n",
       "9996   9997   208324        208324   1084709           19  067973371X   \n",
       "9997   9998    77431         77431   2393986           60  039330762X   \n",
       "9998   9999  8565083       8565083  13433613            7    61711527   \n",
       "9999  10000     8914          8914     11817           31   375700455   \n",
       "\n",
       "            isbn13                      authors  original_publication_year  \\\n",
       "0     9.780439e+12              Suzanne Collins                     2008.0   \n",
       "1     9.780440e+12  J.K. Rowling, Mary GrandPré                     1997.0   \n",
       "2     9.780316e+12              Stephenie Meyer                     2005.0   \n",
       "3     9.780061e+12                   Harper Lee                     1960.0   \n",
       "4     9.780743e+12          F. Scott Fitzgerald                     1925.0   \n",
       "...            ...                          ...                        ...   \n",
       "9995  9.780441e+12                Ilona Andrews                     2010.0   \n",
       "9996  9.780680e+12               Robert A. Caro                     1990.0   \n",
       "9997  9.780393e+12              Patrick O'Brian                     1977.0   \n",
       "9998  9.780062e+12              Peggy Orenstein                     2011.0   \n",
       "9999  9.780376e+12                  John Keegan                     1998.0   \n",
       "\n",
       "                                         original_title  ... ratings_count  \\\n",
       "0                                      The Hunger Games  ...       4780653   \n",
       "1              Harry Potter and the Philosopher's Stone  ...       4602479   \n",
       "2                                              Twilight  ...       3866839   \n",
       "3                                 To Kill a Mockingbird  ...       3198671   \n",
       "4                                      The Great Gatsby  ...       2683664   \n",
       "...                                                 ...  ...           ...   \n",
       "9995                                         Bayou Moon  ...         17204   \n",
       "9996                                   Means of Ascent   ...         12582   \n",
       "9997                              The Mauritius Command  ...          9421   \n",
       "9998  Cinderella Ate My Daughter: Dispatches from th...  ...         11279   \n",
       "9999                                The First World War  ...          9162   \n",
       "\n",
       "     work_ratings_count  work_text_reviews_count  ratings_1  ratings_2  \\\n",
       "0               4942365                   155254      66715     127936   \n",
       "1               4800065                    75867      75504     101676   \n",
       "2               3916824                    95009     456191     436802   \n",
       "3               3340896                    72586      60427     117415   \n",
       "4               2773745                    51992      86236     197621   \n",
       "...                 ...                      ...        ...        ...   \n",
       "9995              18856                     1180        105        575   \n",
       "9996              12952                      395        303        551   \n",
       "9997              10733                      374         11        111   \n",
       "9998              11994                     1988        275       1002   \n",
       "9999               9700                      364        117        345   \n",
       "\n",
       "      ratings_3  ratings_4  ratings_5  \\\n",
       "0        560092    1481305    2706317   \n",
       "1        455024    1156318    3011543   \n",
       "2        793319     875073    1355439   \n",
       "3        446835    1001952    1714267   \n",
       "4        606158     936012     947718   \n",
       "...         ...        ...        ...   \n",
       "9995       3538       7860       6778   \n",
       "9996       1737       3389       6972   \n",
       "9997       1191       4240       5180   \n",
       "9998       3765       4577       2375   \n",
       "9999       2031       4138       3069   \n",
       "\n",
       "                                              image_url  \\\n",
       "0     https://images.gr-assets.com/books/1447303603m...   \n",
       "1     https://images.gr-assets.com/books/1474154022m...   \n",
       "2     https://images.gr-assets.com/books/1361039443m...   \n",
       "3     https://images.gr-assets.com/books/1361975680m...   \n",
       "4     https://images.gr-assets.com/books/1490528560m...   \n",
       "...                                                 ...   \n",
       "9995  https://images.gr-assets.com/books/1307445460m...   \n",
       "9996  https://s.gr-assets.com/assets/nophoto/book/11...   \n",
       "9997  https://images.gr-assets.com/books/1455373531m...   \n",
       "9998  https://images.gr-assets.com/books/1279214118m...   \n",
       "9999  https://images.gr-assets.com/books/1403194704m...   \n",
       "\n",
       "                                        small_image_url  \n",
       "0     https://images.gr-assets.com/books/1447303603s...  \n",
       "1     https://images.gr-assets.com/books/1474154022s...  \n",
       "2     https://images.gr-assets.com/books/1361039443s...  \n",
       "3     https://images.gr-assets.com/books/1361975680s...  \n",
       "4     https://images.gr-assets.com/books/1490528560s...  \n",
       "...                                                 ...  \n",
       "9995  https://images.gr-assets.com/books/1307445460s...  \n",
       "9996  https://s.gr-assets.com/assets/nophoto/book/50...  \n",
       "9997  https://images.gr-assets.com/books/1455373531s...  \n",
       "9998  https://images.gr-assets.com/books/1279214118s...  \n",
       "9999  https://images.gr-assets.com/books/1403194704s...  \n",
       "\n",
       "[10000 rows x 23 columns]"
      ]
     },
     "execution_count": 3,
     "metadata": {},
     "output_type": "execute_result"
    }
   ],
   "source": [
    "import pandas as pd\n",
    "\n",
    "pd.read_csv(\"books.csv\")"
   ]
  },
  {
   "cell_type": "code",
   "execution_count": 4,
   "metadata": {
    "azdata_cell_guid": "3210add6-db07-494f-8b52-66aaf5f20f71",
    "tags": []
   },
   "outputs": [
    {
     "ename": "SyntaxError",
     "evalue": "invalid syntax (1106401023.py, line 2)",
     "output_type": "error",
     "traceback": [
      "\u001b[1;36m  Cell \u001b[1;32mIn[4], line 2\u001b[1;36m\u001b[0m\n\u001b[1;33m    SELECT TOP 1000 FROM\u001b[0m\n\u001b[1;37m           ^\u001b[0m\n\u001b[1;31mSyntaxError\u001b[0m\u001b[1;31m:\u001b[0m invalid syntax\n"
     ]
    }
   ],
   "source": [
    "#-- Code Here:\n",
    "SELECT TOP 1000 FROM "
   ]
  },
  {
   "cell_type": "markdown",
   "metadata": {
    "azdata_cell_guid": "d220c097-e9cf-4edd-9abe-312d071217b7"
   },
   "source": [
    "QUESTION 2: Count the number of titles.  Are there 10,000 titles as promised by the dataset?"
   ]
  },
  {
   "cell_type": "code",
   "execution_count": 18,
   "metadata": {
    "azdata_cell_guid": "470b0ca4-9a32-4b46-a42e-bbb645101769",
    "tags": []
   },
   "outputs": [
    {
     "data": {
      "text/html": [
       "Commands completed successfully."
      ]
     },
     "metadata": {},
     "output_type": "display_data"
    },
    {
     "data": {
      "text/html": [
       "Total execution time: 00:00:00.058"
      ]
     },
     "metadata": {},
     "output_type": "display_data"
    }
   ],
   "source": [
    "-- Code Here:\n"
   ]
  },
  {
   "cell_type": "markdown",
   "metadata": {
    "azdata_cell_guid": "d3ff6625-6752-4cfe-988f-5b5ada35c311"
   },
   "source": [
    "QUESTION 3: Count the number of books where the original\\_publication\\_year is earlier than 1800."
   ]
  },
  {
   "cell_type": "code",
   "execution_count": 19,
   "metadata": {
    "azdata_cell_guid": "fa19b188-8b73-480e-9eef-5e277bc8c0c2"
   },
   "outputs": [
    {
     "data": {
      "text/html": [
       "Commands completed successfully."
      ]
     },
     "metadata": {},
     "output_type": "display_data"
    },
    {
     "data": {
      "text/html": [
       "Total execution time: 00:00:00.058"
      ]
     },
     "metadata": {},
     "output_type": "display_data"
    }
   ],
   "source": [
    "-- Code Here:\n"
   ]
  },
  {
   "cell_type": "markdown",
   "metadata": {
    "azdata_cell_guid": "20d9ae62-2db9-458b-8ab5-7931bab147b9"
   },
   "source": [
    "QUESTION 4: Create a query that displays distinct authors from the table."
   ]
  },
  {
   "cell_type": "code",
   "execution_count": 20,
   "metadata": {
    "azdata_cell_guid": "a014772c-c1fa-4d2e-8590-4452de6b3fbd"
   },
   "outputs": [
    {
     "data": {
      "text/html": [
       "Commands completed successfully."
      ]
     },
     "metadata": {},
     "output_type": "display_data"
    },
    {
     "data": {
      "text/html": [
       "Total execution time: 00:00:00.049"
      ]
     },
     "metadata": {},
     "output_type": "display_data"
    }
   ],
   "source": [
    "-- Code Here:\n"
   ]
  },
  {
   "cell_type": "markdown",
   "metadata": {
    "azdata_cell_guid": "aa53707c-7489-4fa4-b72f-eabe6f02596a"
   },
   "source": [
    "QUESTION 5: Create a query that displays a count of all the books that contain a language code for English.  This could be represented in the table as \"eng\" or \"en-\"."
   ]
  },
  {
   "cell_type": "code",
   "execution_count": 21,
   "metadata": {
    "azdata_cell_guid": "1ad1e38a-485c-4b1f-bf19-36b893324a2d",
    "tags": []
   },
   "outputs": [
    {
     "data": {
      "text/html": [
       "Commands completed successfully."
      ]
     },
     "metadata": {},
     "output_type": "display_data"
    },
    {
     "data": {
      "text/html": [
       "Total execution time: 00:00:00.052"
      ]
     },
     "metadata": {},
     "output_type": "display_data"
    }
   ],
   "source": [
    "-- Code Here:\n"
   ]
  },
  {
   "cell_type": "markdown",
   "metadata": {
    "azdata_cell_guid": "27b6d88f-4ce2-492f-9b42-7b0c543eba40"
   },
   "source": [
    "QUESTION 6: Create a query to check how many original titles were written during World War I era (1914-1921)."
   ]
  },
  {
   "cell_type": "code",
   "execution_count": 22,
   "metadata": {
    "azdata_cell_guid": "83177ce2-b50d-4056-96f6-02b9b11e608d",
    "tags": []
   },
   "outputs": [
    {
     "data": {
      "text/html": [
       "Commands completed successfully."
      ]
     },
     "metadata": {},
     "output_type": "display_data"
    },
    {
     "data": {
      "text/html": [
       "Total execution time: 00:00:00.082"
      ]
     },
     "metadata": {},
     "output_type": "display_data"
    }
   ],
   "source": [
    "-- Code Here:\n"
   ]
  },
  {
   "cell_type": "markdown",
   "metadata": {
    "azdata_cell_guid": "3eaf376d-9de3-4553-a9d0-9caf74ee3d6a"
   },
   "source": [
    "# B. The **Book Tags** Table\n",
    "\n",
    "### Column Context\n",
    "\n",
    "- **goodreads\\_book\\_id** = the id of the book\n",
    "- **tag\\_id** = matches to a specific tag that can be found in the _tags_ table.\n",
    "- **count** = the number of times this tag was used for this book."
   ]
  },
  {
   "cell_type": "markdown",
   "metadata": {
    "azdata_cell_guid": "e3e010f9-f13a-400b-a424-5374ecab1065"
   },
   "source": [
    "QUESTION 1: SELECT the TOP 1000 table items ordered by the *tag_id*"
   ]
  },
  {
   "cell_type": "code",
   "execution_count": 23,
   "metadata": {
    "azdata_cell_guid": "7b5a0b83-6942-4a41-a224-ac6e14668a72",
    "tags": []
   },
   "outputs": [
    {
     "data": {
      "text/html": [
       "Commands completed successfully."
      ]
     },
     "metadata": {},
     "output_type": "display_data"
    },
    {
     "data": {
      "text/html": [
       "Total execution time: 00:00:00.060"
      ]
     },
     "metadata": {},
     "output_type": "display_data"
    }
   ],
   "source": [
    "-- Code Here:\n"
   ]
  },
  {
   "cell_type": "markdown",
   "metadata": {
    "azdata_cell_guid": "a21eee27-6694-4ffc-a16b-ae266a85b0aa"
   },
   "source": [
    "QUESTION 2: Create a query that counts the number of *goodreads_book_id* grouped by the *tag_id*."
   ]
  },
  {
   "cell_type": "code",
   "execution_count": 24,
   "metadata": {
    "azdata_cell_guid": "e2882ce6-2bca-4e9a-86c9-690c475afb6c"
   },
   "outputs": [
    {
     "data": {
      "text/html": [
       "Commands completed successfully."
      ]
     },
     "metadata": {},
     "output_type": "display_data"
    },
    {
     "data": {
      "text/html": [
       "Total execution time: 00:00:00.061"
      ]
     },
     "metadata": {},
     "output_type": "display_data"
    }
   ],
   "source": [
    "--- Code Here:\n"
   ]
  },
  {
   "cell_type": "markdown",
   "metadata": {
    "azdata_cell_guid": "8480fd60-7e80-4c17-9f5b-c08a6b06ed83"
   },
   "source": [
    "QUESTION 3: In the last query, we created a new, unnamed column.  Using **AS** create an alias to provide a name of your choice to this new column."
   ]
  },
  {
   "cell_type": "code",
   "execution_count": 25,
   "metadata": {
    "azdata_cell_guid": "7d8119b9-fa3e-49f2-ac7d-aa9be46771c6"
   },
   "outputs": [
    {
     "data": {
      "text/html": [
       "Commands completed successfully."
      ]
     },
     "metadata": {},
     "output_type": "display_data"
    },
    {
     "data": {
      "text/html": [
       "Total execution time: 00:00:00.054"
      ]
     },
     "metadata": {},
     "output_type": "display_data"
    }
   ],
   "source": [
    "-- Code Here:\n"
   ]
  },
  {
   "cell_type": "markdown",
   "metadata": {
    "azdata_cell_guid": "1ba1363a-4f02-4962-a95a-93b80c5926b1"
   },
   "source": [
    "# C. The **Ratings** Table\n",
    "\n",
    "### Column Context\n",
    "\n",
    "- **book\\_id** = the identifier of the book\n",
    "- **user\\_id** = the identifier of the user who gave a rating\n",
    "- **rating** = the rating given by the user to the book"
   ]
  },
  {
   "cell_type": "markdown",
   "metadata": {
    "azdata_cell_guid": "bbe07263-5f3e-44f2-b424-9e1899034cac"
   },
   "source": [
    "QUESTION 1: Create a query that displays the top 1000 items in the table in descending order."
   ]
  },
  {
   "cell_type": "code",
   "execution_count": 26,
   "metadata": {
    "azdata_cell_guid": "f08cd55a-b073-4baf-a983-9916111a77e2"
   },
   "outputs": [
    {
     "data": {
      "text/html": [
       "Commands completed successfully."
      ]
     },
     "metadata": {},
     "output_type": "display_data"
    },
    {
     "data": {
      "text/html": [
       "Total execution time: 00:00:00.059"
      ]
     },
     "metadata": {},
     "output_type": "display_data"
    }
   ],
   "source": [
    "-- Code Here:\n"
   ]
  },
  {
   "cell_type": "markdown",
   "metadata": {
    "azdata_cell_guid": "68291b2c-bbe7-4ae4-83f0-69602a80f193"
   },
   "source": [
    "QUESTION 2: Create a query that returns the total number of users that have given a rating of less than 2."
   ]
  },
  {
   "cell_type": "code",
   "execution_count": 27,
   "metadata": {
    "azdata_cell_guid": "d8655800-30a4-42ec-a77b-e5ea1ce71160",
    "tags": []
   },
   "outputs": [
    {
     "data": {
      "text/html": [
       "Commands completed successfully."
      ]
     },
     "metadata": {},
     "output_type": "display_data"
    },
    {
     "data": {
      "text/html": [
       "Total execution time: 00:00:00.087"
      ]
     },
     "metadata": {},
     "output_type": "display_data"
    }
   ],
   "source": [
    "-- Code Here:\n"
   ]
  },
  {
   "cell_type": "markdown",
   "metadata": {
    "azdata_cell_guid": "2a79805b-4b83-4b90-a74d-0dbdcb2c2e63"
   },
   "source": [
    "QUESTION 3: Create a query that returns the sum of books that have a rating of 4 or higher."
   ]
  },
  {
   "cell_type": "code",
   "execution_count": 28,
   "metadata": {
    "azdata_cell_guid": "4c87ad35-caa6-43c2-b86d-dd32076294df",
    "tags": []
   },
   "outputs": [
    {
     "data": {
      "text/html": [
       "Commands completed successfully."
      ]
     },
     "metadata": {},
     "output_type": "display_data"
    },
    {
     "data": {
      "text/html": [
       "Total execution time: 00:00:00.052"
      ]
     },
     "metadata": {},
     "output_type": "display_data"
    }
   ],
   "source": [
    "-- Code Here:\n"
   ]
  },
  {
   "cell_type": "markdown",
   "metadata": {
    "azdata_cell_guid": "8e5b1010-5e77-412f-8993-f643878c7362"
   },
   "source": [
    "# D. The **Tags** Table\n",
    "\n",
    "### Column Context\n",
    "\n",
    "- **tag\\_id** = the identifier of the specific tag \n",
    "- **tag\\_name** = a tag created by users when creating reviews"
   ]
  },
  {
   "cell_type": "markdown",
   "metadata": {
    "azdata_cell_guid": "a14e2911-3c58-485a-8f1a-50601b3923f8"
   },
   "source": [
    "QUESTION 1: Create a query that returns table items where the _tag\\_name_ describes the book as a mystery.\n",
    "\n",
    "Hint: Use the wildcard to find the word mystery at the beginning, middle, and end of a _tag\\_name_"
   ]
  },
  {
   "cell_type": "code",
   "execution_count": 29,
   "metadata": {
    "azdata_cell_guid": "6d343418-1a36-4055-9261-08843c9a1793",
    "tags": []
   },
   "outputs": [
    {
     "data": {
      "text/html": [
       "Commands completed successfully."
      ]
     },
     "metadata": {},
     "output_type": "display_data"
    },
    {
     "data": {
      "text/html": [
       "Total execution time: 00:00:00.066"
      ]
     },
     "metadata": {},
     "output_type": "display_data"
    }
   ],
   "source": [
    "-- Code Here:\n",
    "    "
   ]
  },
  {
   "cell_type": "markdown",
   "metadata": {
    "azdata_cell_guid": "731473a8-06d3-4b7e-91ad-c9cc8883b864"
   },
   "source": [
    "QUESTION 2: Run the query below.  In your own words, what is it returning?"
   ]
  },
  {
   "cell_type": "code",
   "execution_count": 30,
   "metadata": {
    "azdata_cell_guid": "5543e056-84c7-40b2-9f98-903b8bfa2a73"
   },
   "outputs": [
    {
     "data": {
      "text/html": [
       "Commands completed successfully."
      ]
     },
     "metadata": {},
     "output_type": "display_data"
    },
    {
     "data": {
      "text/html": [
       "Total execution time: 00:00:00.056"
      ]
     },
     "metadata": {},
     "output_type": "display_data"
    }
   ],
   "source": [
    "-- SELECT * \n",
    "    -- FROM BooksDB.dbo.tags\n",
    "    -- WHERE tag_name < 'd' AND tag_name >= 'c';"
   ]
  },
  {
   "cell_type": "markdown",
   "metadata": {
    "azdata_cell_guid": "12729d8f-4ce4-45b1-8b55-f25a498064d9"
   },
   "source": [
    "YOUR ANSWER:"
   ]
  },
  {
   "cell_type": "markdown",
   "metadata": {
    "azdata_cell_guid": "4c91620e-c067-4ead-a983-da32f52e8ff7"
   },
   "source": [
    "# The **To Read** Table"
   ]
  },
  {
   "cell_type": "markdown",
   "metadata": {
    "azdata_cell_guid": "cf69c5f4-f75b-490a-8ef7-ae524374b03d"
   },
   "source": [
    "QUESTION 1:  Create a query that uses the user\\_id to count the total number of books that each user wants to read.  Print the results in ascending order by user\\_id under the alias 'Total Books To Read'\n",
    "\n",
    "_Hint: You can use both GROUP BY and ORDER BY to complete this query._"
   ]
  },
  {
   "cell_type": "code",
   "execution_count": 31,
   "metadata": {
    "azdata_cell_guid": "25f8b89f-0a93-4cba-90d9-42f6b1cb1bf8"
   },
   "outputs": [
    {
     "data": {
      "text/html": [
       "Commands completed successfully."
      ]
     },
     "metadata": {},
     "output_type": "display_data"
    },
    {
     "data": {
      "text/html": [
       "Total execution time: 00:00:00.076"
      ]
     },
     "metadata": {},
     "output_type": "display_data"
    }
   ],
   "source": [
    "-- Code Here:\n"
   ]
  },
  {
   "cell_type": "markdown",
   "metadata": {
    "azdata_cell_guid": "a0f56064-89d6-4ab3-aef4-693d831319a6"
   },
   "source": [
    "QUESTION 2: Create a query that uses user\\_id to count the total number of books each user wants to read.  Have the results sort the table by the total number of book\\_ids in descending order and under the alias 'Total Books To Read'.\n",
    "\n",
    "_Hint: You can use both GROUP BY and ORDER BY to complete this query._"
   ]
  },
  {
   "cell_type": "code",
   "execution_count": 32,
   "metadata": {
    "azdata_cell_guid": "1bc33f3b-de96-411d-aabf-f0dd01c8a92e"
   },
   "outputs": [
    {
     "data": {
      "text/html": [
       "Commands completed successfully."
      ]
     },
     "metadata": {},
     "output_type": "display_data"
    },
    {
     "data": {
      "text/html": [
       "Total execution time: 00:00:00.057"
      ]
     },
     "metadata": {},
     "output_type": "display_data"
    }
   ],
   "source": [
    "-- Code Here:\n"
   ]
  }
 ],
 "metadata": {
  "extensions": {
   "azuredatastudio": {
    "version": 1,
    "views": []
   }
  },
  "kernelspec": {
   "display_name": "Python 3 (ipykernel)",
   "language": "python",
   "name": "python3"
  },
  "language_info": {
   "codemirror_mode": {
    "name": "ipython",
    "version": 3
   },
   "file_extension": ".py",
   "mimetype": "text/x-python",
   "name": "python",
   "nbconvert_exporter": "python",
   "pygments_lexer": "ipython3",
   "version": "3.10.9"
  }
 },
 "nbformat": 4,
 "nbformat_minor": 2
}
